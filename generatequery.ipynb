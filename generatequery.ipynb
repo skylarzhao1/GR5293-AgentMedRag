{
  "cells": [
    {
      "cell_type": "code",
      "execution_count": 10,
      "metadata": {
        "colab": {
          "base_uri": "https://localhost:8080/"
        },
        "id": "E7fGSKLHOlGO",
        "outputId": "138f87dc-d5d3-463e-ceb9-7e06b823be02"
      },
      "outputs": [
        {
          "name": "stdout",
          "output_type": "stream",
          "text": [
            "Drive already mounted at /content/drive; to attempt to forcibly remount, call drive.mount(\"/content/drive\", force_remount=True).\n"
          ]
        }
      ],
      "source": [
        "from google.colab import drive\n",
        "drive.mount('/content/drive')"
      ]
    },
    {
      "cell_type": "code",
      "execution_count": 11,
      "metadata": {
        "colab": {
          "base_uri": "https://localhost:8080/"
        },
        "id": "_M48AI03RlOM",
        "outputId": "c8ef978e-9669-4a68-c33d-86c06855e459"
      },
      "outputs": [
        {
          "name": "stdout",
          "output_type": "stream",
          "text": [
            "checkpoint  pubmed_article.json\n"
          ]
        }
      ],
      "source": [
        "!ls \"/content/drive/MyDrive/finalproject\""
      ]
    },
    {
      "cell_type": "code",
      "execution_count": 14,
      "metadata": {
        "colab": {
          "base_uri": "https://localhost:8080/"
        },
        "id": "43fSF9cfOpVe",
        "outputId": "b88b43b8-5fdc-454b-8a50-ff850998a84f"
      },
      "outputs": [
        {
          "name": "stdout",
          "output_type": "stream",
          "text": [
            "[{'article_title': 'CORRIGENDUM.', 'article_abstract': '[This corrects the article DOI: 10.48101/ujms.v129.10741.].', 'pub_date': {'year': '2025', 'month': '04', 'day': '03'}}, {'article_title': 'Hepatolithiasis pathogenesis update.', 'article_abstract': \"Hepatolithiasis is prevalent in East Asian countries and not common in Western countries. In recent years, because of the increased number of immigrants from East Asia in Western countries, hepatolithiasis has gradually become a global problem. Although current surgical interventions for hepatolithiasis boast a high rate of stone clearance, the persistent challenges of the disease's refractory nature and high recurrence rate continue to complicate its treatment. Therefore, understanding its underlying pathogenesis is meaningful for effective treatment. In this review, we discuss the common risk factors: infection, cholangitis, environmental factors and diet habits, abnormal bile components, anatomical abnormalities, and bile stasis, and summarize the relevant mechanisms.\", 'pub_date': {'year': '2024', 'month': '12', 'day': '17'}}, {'article_title': 'Lupin poisoning: a review.', 'article_abstract': 'Lupin beans are the seeds of plants from the Fabaceae family. These beans are rich in protein and used for human consumption for several millennia. Their popularity is still increasing. Some species produce beans with high alkaloid contents, specifically of spartaine and lupanine. Without proper processing, consuming these beans can result in lupin poisoning that causes anticholinergic syndrome. We systematically analyzed all case reports describing lupin poisoning in humans in order to define most observed clinical findings, treatment options and outcome.', 'pub_date': {'year': '2025', 'month': '04', 'day': '09'}}, {'article_title': 'Metaverse technology tree: a holistic view.', 'article_abstract': 'The Metaverse has emerged as a significant trend in recent years, offering solutions across diverse fields. Despite substantial investments and extensive research efforts, a comprehensive understanding of the Metaverse environment and its full potential remains elusive. This article seeks to address this gap by developing a technology tree for the Metaverse based on published standards, prior studies, and frameworks proposed by leading firms.', 'pub_date': {'year': '2025', 'month': '04', 'day': '17'}}, {'article_title': 'Exercise as a mediator of wellbeing.', 'article_abstract': \"Recent studies have highlighted physical exercise's potential impact on college students' psychological wellbeing. This study aims to explore this relationship further by examining physical fitness's mediating role.\", 'pub_date': {'year': '2025', 'month': '04', 'day': '17'}}, {'article_title': \"Advancing pediatric care through OpenAI's Sora.\", 'article_abstract': \"For children, therapeutic play-structured activities tailored to age, cognitive abilities, and health-alleviates health-related anxiety and improves outcomes. This study introduces Sora, a text-to-video artificial intelligence (AI) software, as a novel tool to enhance therapeutic play. Using Sora, we generated videos tailored to children's interests. The personalized videos were designed to foster emotional well-being and provide education for pediatric patients. We demonstrate Sora's versatility, as its videos can be tweaked to match a child's interests, preferences, and medical conditions. Videos for emotional support depict a teddy bear in playful outfits comfortably using an inhaler, a nebulizer, or an EpiPen. We also demonstrate Sora's educational potential with a video that uses a seesaw to illustrate diabetes management. Overall, this study represents the first application of text-to-video AI software in pediatrics. Through personalized child-like videos, Sora can foster a sense of comfort and engagement for children in hospital.\", 'pub_date': {'year': '2025', 'month': '04', 'day': '29'}}, {'article_title': 'Recurrent uncomplicated lower urinary tract infections in women.', 'article_abstract': \"Recurrent uncomplicated lower urinary tract infections (RULUTIs) are common among women without anatomical or physiological abnormalities and affect women of all age groups, races, and ethnicities. Herein, we summarized the sources of epidemiology, etiology, diagnosis, treatment, prophylaxis, and follow-up evaluations in cases of RULUTIs. Patients' medical histories, symptoms, and signs were recorded. The review showed that urinalysis, culture, and sensitivity should be tested before empiric treatment. A first-line therapeutic strategy should be applied based on the results of the urine culture and sensitivity tests. Therefore, estrogen should be used as an ancillary therapy. After the successful treatment of acute infections, intermittent or continuous prophylaxis can be administered. Patients may benefit from follow-up evaluations to avoid recurrent infections. We expect that clinicians will pay more attention to RULUTIs.\", 'pub_date': {'year': '2025', 'month': '01', 'day': '23'}}, {'article_title': 'Primer on machine learning applications in brain immunology.', 'article_abstract': 'Single-cell and spatial technologies have transformed our understanding of brain immunology, providing unprecedented insights into immune cell heterogeneity and spatial organisation within the central nervous system. These methods have uncovered complex cellular interactions, rare cell populations, and the dynamic immune landscape in neurological disorders. This review highlights recent advances in single-cell \"omics\" data analysis and discusses their applicability for brain immunology. Traditional statistical techniques, adapted for single-cell omics, have been crucial in categorizing cell types and identifying gene signatures, overcoming challenges posed by increasingly complex datasets. We explore how machine learning, particularly deep learning methods like autoencoders and graph neural networks, is addressing these challenges by enhancing dimensionality reduction, data integration, and feature extraction. Newly developed foundation models present exciting opportunities for uncovering gene expression programs and predicting genetic perturbations. Focusing on brain development, we demonstrate how single-cell analyses have resolved immune cell heterogeneity, identified temporal maturation trajectories, and uncovered potential therapeutic links to various pathologies, including brain malignancies and neurodegeneration. The integration of single-cell and spatial omics has elucidated the intricate cellular interplay within the developing brain. This mini-review is intended for wet lab biologists at all career stages, offering a concise overview of the evolving landscape of single-cell omics in the age of widely available artificial intelligence.', 'pub_date': {'year': '2025', 'month': '04', 'day': '17'}}, {'article_title': 'Antibacterial sonodynamic nanomedicine: mechanism, category, and applications.', 'article_abstract': 'Sonodynamic therapy (SDT) has emerged as a cutting-edge strategy for combating multidrug-resistant bacterial infections. Unlike conventional antibiotics, SDT leverages the generation of reactive oxygen species during the treatment process to inflict multifaceted damage on bacterial cells, thereby significantly reducing the likelihood of developing drug resistance. Compared to other physical sterilisation methods, such as ultraviolet irradiation, SDT offers enhanced tissue penetration, making it particularly suitable for addressing deep-seated infections, including osteomyelitis. Despite its significant advantages, the clinical translation of SDT for antibacterial applications faces several challenges. This review discusses the fundamental mechanisms of SDT, with a focus on phenomena such as cavitation-induced reactions and piezocatalytic generation of reactive oxygen species. Furthermore, it provides a comprehensive analysis of various sonosensitisers used in SDT, emphasising their potential to enhance therapeutic outcomes in areas such as infected wound healing, bone regeneration, and the mitigation of deep tissue inflammation. While SDT shows great promise in addressing multidrug-resistant bacterial infections, further research and development are essential to overcome existing limitations and unlock its full clinical potential.', 'pub_date': {'year': '2025', 'month': '03', 'day': '25'}}, {'article_title': 'Zebrafish do not have a calprotectin ortholog.', 'article_abstract': 'The protein heterodimer calprotectin and its component proteins, S100A8 and S100A9, play important antibacterial and pro-inflammatory roles in the mammalian innate immune response. Gaining mechanistic insights into the regulation and biological function of calprotectin will help facilitate patient diagnostics and therapy for inflammation and further our understanding of the host-microbe interface. Recent literature has identified zebrafish s100a10b as zebrafish calprotectin based on sequence similarity, genomic context, and transcriptional upregulation during the immune response to bacterial infections. The field would benefit from expanding the breadth of calprotectin studies into a zebrafish innate immunity model. Here, we carefully evaluated the possibility that zebrafish possess a calprotectin ortholog or a paralog that convergently evolved similar function. Using careful bioinformatics approaches, we found that zebrafish do not have an ortholog of either mammalian S100A8 or S100A9. To look for paralogs with convergent function, we identified four zebrafish s100 proteins-including s100a10b-that are expressed in immune cells and upregulated during the immune response. We recombinantly expressed and purified these proteins and measured their antimicrobial activity. None of the zebrafish proteins exhibited activity comparable to mammalian calprotectin. We also generated structural models of all homodimers and heterodimers of all annotated zebrafish s100 genes. None of these complexes were predicted to have an antimicrobial transition metal binding site equivalent to calprotectin. Finally, we measured the ability of our four purified zebrafish s100 proteins to activate inflammation via Toll-like receptor 4, a key feature of human S100A9; none of the proteins activated the receptor. Our work demonstrates conclusively that zebrafish have no ortholog of calprotectin and suggests that similar proteins have not convergently evolved analogous functions.', 'pub_date': {'year': '2025', 'month': '05', 'day': '02'}}]\n"
          ]
        }
      ],
      "source": [
        "import json\n",
        "with open(\"/content/drive/MyDrive/finalproject/pubmed_article.json\") as f:\n",
        "    articles = json.load(f)\n",
        "examples = articles[:10]\n",
        "print(examples)"
      ]
    },
    {
      "cell_type": "code",
      "execution_count": null,
      "metadata": {
        "id": "EMkmg1jNS8Mf"
      },
      "outputs": [],
      "source": []
    },
    {
      "cell_type": "code",
      "execution_count": null,
      "metadata": {
        "id": "d0JzPc_DS8rs"
      },
      "outputs": [],
      "source": []
    },
    {
      "cell_type": "code",
      "execution_count": null,
      "metadata": {
        "id": "9px8V2tMS8tz"
      },
      "outputs": [],
      "source": []
    },
    {
      "cell_type": "code",
      "execution_count": 19,
      "metadata": {
        "colab": {
          "base_uri": "https://localhost:8080/"
        },
        "id": "kF45DFWZS8v0",
        "outputId": "2f64e353-548c-4785-d70c-d6776ccdb61a"
      },
      "outputs": [
        {
          "name": "stderr",
          "output_type": "stream",
          "text": [
            "100%|██████████| 10/10 [00:09<00:00,  1.01it/s]"
          ]
        },
        {
          "name": "stdout",
          "output_type": "stream",
          "text": [
            "✅ Saved 10 QA pairs to /content/drive/MyDrive/finalproject/generated_qa_pairs.json\n"
          ]
        },
        {
          "name": "stderr",
          "output_type": "stream",
          "text": [
            "\n"
          ]
        }
      ],
      "source": [
        "import json\n",
        "import re\n",
        "from tqdm import tqdm\n",
        "from openai import OpenAI\n",
        "\n",
        "\n",
        "# Prompt 模板\n",
        "prompt_template = \"\"\"\n",
        "Given the following PubMed abstract, write one medical question that can be answered using the content of the abstract.\n",
        "Then provide the answer using only the information from the abstract.\n",
        "\n",
        "Abstract:\n",
        "{abstract}\n",
        "\n",
        "Question:\n",
        "\"\"\"\n",
        "\n",
        "# 强健的解析函数\n",
        "def parse_output(output):\n",
        "    match = re.search(r\"Question[:：]?\\s*(.+?)\\s*Answer[:：]?\\s*(.+)\", output, re.DOTALL | re.IGNORECASE)\n",
        "    if match:\n",
        "        return match.group(1).strip(), match.group(2).strip()\n",
        "    else:\n",
        "        parts = re.split(r\"\\n\\s*\\n\", output.strip())\n",
        "        if len(parts) >= 2:\n",
        "            return parts[0].strip(), parts[1].strip()\n",
        "        elif len(parts) == 1:\n",
        "            return parts[0].strip(), \"\"\n",
        "        return None, None\n",
        "\n",
        "# 调用 LLM\n",
        "def generate_qa(abstract):\n",
        "    prompt = prompt_template.format(abstract=abstract)\n",
        "    response = client.chat.completions.create(\n",
        "        model=\"gpt-3.5-turbo\",\n",
        "        messages=[{\"role\": \"user\", \"content\": prompt}],\n",
        "        temperature=0,\n",
        "        max_tokens=256\n",
        "    )\n",
        "    return response.choices[0].message.content\n",
        "\n",
        "# 加载 PubMed 数据\n",
        "with open(\"/content/drive/MyDrive/finalproject/pubmed_article.json\") as f:\n",
        "    examples = json.load(f)\n",
        "\n",
        "qa_pairs = []\n",
        "\n",
        "# 生成并解析问答对\n",
        "for article in tqdm(examples[:10]):\n",
        "    abstract = article['article_abstract']\n",
        "    try:\n",
        "        output = generate_qa(abstract)\n",
        "        question, answer = parse_output(output)\n",
        "        if question and answer:\n",
        "            qa_pairs.append({\n",
        "                \"abstract\": abstract,\n",
        "                \"question\": question,\n",
        "                \"answer\": answer\n",
        "            })\n",
        "        else:\n",
        "            print(\"⚠️ 无法解析格式：\", output)\n",
        "    except Exception as e:\n",
        "        print(\"❌ Error:\", e)\n",
        "\n",
        "# 保存为 JSON 文件\n",
        "output_path = \"/content/drive/MyDrive/finalproject/generated_qa_pairs.json\"\n",
        "with open(output_path, \"w\") as f:\n",
        "    json.dump(qa_pairs, f, indent=2, ensure_ascii=False)\n",
        "\n",
        "print(f\"✅ Saved {len(qa_pairs)} QA pairs to {output_path}\")\n"
      ]
    }
  ],
  "metadata": {
    "colab": {
      "provenance": []
    },
    "kernelspec": {
      "display_name": "Python 3",
      "name": "python3"
    },
    "language_info": {
      "name": "python"
    }
  },
  "nbformat": 4,
  "nbformat_minor": 0
}
